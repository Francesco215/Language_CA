{
 "cells": [
  {
   "cell_type": "code",
   "execution_count": 1,
   "metadata": {},
   "outputs": [
    {
     "name": "stdout",
     "output_type": "stream",
     "text": [
      "length of dataset in characters: 1,115,394\n",
      "tokenizer vocab size: 65\n",
      "length of dataset in characters: 1,115,394\n",
      "train has 1,003,854 tokens\n",
      "val has 111,540 tokens\n"
     ]
    }
   ],
   "source": [
    "import torch\n",
    "from torch import nn\n",
    "from IPython.display import clear_output\n",
    "\n",
    "from src.encoder import Encoder, GPT2Encoder\n",
    "from src.decoder import Decoder, GPT2Decoder\n",
    "from src.graph_initialization import random_unidirectional_graph_maker, linear_bidirectional_graph_maker\n",
    "from src.graphAN import GraphAttentionNetwork, BlockGenerator\n",
    "from src.data_loader import validation\n",
    "from src.tokenizer import Tokenizer\n",
    "from src.GPT2 import GPT2_Block, GPT2\n",
    "from matplotlib import pyplot as plt\n",
    "from src.utils import moving_average, grad_norm\n",
    "from torch.nn.utils import clip_grad_norm_\n",
    "import pickle\n",
    "import numpy as np\n",
    "from termcolor import colored\n",
    "from torch.nn import functional as F\n",
    "import einops\n",
    "\n",
    "import torch\n",
    "\n",
    "from src.cellular_automata import CellularAutomata\n",
    "from src.tokenizer import CharTokenizer\n",
    "\n",
    "dir_path='shakespeare_data/'\n",
    "input_file_path=dir_path+'input.txt'\n",
    "\n",
    "\n",
    "#create the tokenizer\n",
    "tokenizer=CharTokenizer(input_file_path)\n",
    "print('tokenizer vocab size:', tokenizer.vocab_size)\n",
    "\n",
    "# load the data\n",
    "with open(input_file_path, 'r') as f:\n",
    "    data = f.read()\n",
    "print(f\"length of dataset in characters: {len(data):,}\")\n",
    "\n",
    "\n",
    "# create the train and test splits\n",
    "n = len(data)\n",
    "train_data = data[:int(n*0.9)]\n",
    "val_data = data[int(n*0.9):]\n",
    "\n",
    "# encode both to integers\n",
    "train_ids = tokenizer(train_data)\n",
    "val_ids = tokenizer(val_data)\n",
    "print(f\"train has {len(train_ids):,} tokens\")\n",
    "print(f\"val has {len(val_ids):,} tokens\")\n",
    "\n",
    "# export to bin files\n",
    "torch.save(train_ids, dir_path+'train.bin')\n",
    "torch.save(val_ids,   dir_path+'val.bin')\n"
   ]
  },
  {
   "cell_type": "code",
   "execution_count": 2,
   "metadata": {},
   "outputs": [
    {
     "name": "stdout",
     "output_type": "stream",
     "text": [
      "number of parameters:73856\n"
     ]
    }
   ],
   "source": [
    "from src.cellular_automata import DiffusionLoss\n",
    "from src.decoder import Loss\n",
    "from src.encoder import NoiseEncoder\n",
    "\n",
    "\n",
    "device = 'cpu'\n",
    "#device = 'mps'  if torch.backends.mps.is_available() else 'cpu'\n",
    "device = 'cuda' if torch.cuda.is_available() else device\n",
    "\n",
    "dK = 16\n",
    "dV = 16\n",
    "heads = 4\n",
    "d_Embedding = 64\n",
    "intermediate_size=2*d_Embedding\n",
    "\n",
    "encoder = NoiseEncoder(d_Embedding, tokenizer, dropout=0, device=device)\n",
    "decoder = Decoder(encoder)\n",
    "block_generator = BlockGenerator(GPT2_Block, d_Embedding, dK, dV, heads, intermediate_size,\n",
    "                                 dropout=0.1, split_size=2**10, device=device, rotary_encoding=True)\n",
    "\n",
    "model = CellularAutomata(tokenizer, encoder, block_generator, decoder, n_blocks=2)\n",
    "model.losses = []\n",
    "model.logs=[]\n",
    "model.validation_losses = []\n",
    "model.tokens_seen=0\n",
    "\n",
    "graph_maker = linear_bidirectional_graph_maker(64, device=device)\n",
    "\n",
    "print(f'number of parameters:{model.n_parameters}')\n",
    "\n",
    "lr = 1e-2\n",
    "gamma = 0.99\n",
    "\n",
    "optimizer = torch.optim.Adam(model.parameters(), lr=lr)\n",
    "scheduler = torch.optim.lr_scheduler.ExponentialLR(optimizer, gamma)\n",
    "\n",
    "step_weight=None\n",
    "\n",
    "\n",
    "loss_function=DiffusionLoss(decoder,1e-2,1e-1)"
   ]
  },
  {
   "cell_type": "code",
   "execution_count": 3,
   "metadata": {},
   "outputs": [],
   "source": [
    "from numpy.random import randint\n",
    "def sample_shakespeare(data, lenght, starting_index=None):\n",
    "    lenght=int(lenght)\n",
    "    \n",
    "    if starting_index is None:\n",
    "        starting_index = randint(0, len(data)-lenght)\n",
    "\n",
    "    if starting_index+lenght>=len(data):\n",
    "        return data[starting_index:]    \n",
    "    \n",
    "    return data[starting_index:starting_index+lenght]\n",
    "\n",
    "\n",
    "def sample_minibatched_shakespeare(train_ids, context_size, batch_size):\n",
    "    target = []\n",
    "    prediction = []\n",
    "    clean_encoding = []\n",
    "    noise_encoding = []\n",
    "\n",
    "    for _ in range(batch_size):\n",
    "        targ=sample_shakespeare(train_ids, context_size)\n",
    "        target.append(targ)\n",
    "        noise=torch.rand(())\n",
    "\n",
    "        pred, clean, nois = encoder(targ, noise)\n",
    "\n",
    "        prediction.append(pred)\n",
    "        clean_encoding.append(clean)\n",
    "        noise_encoding.append(nois.repeat(pred.shape[0], 1))\n",
    "        \n",
    "    target = torch.cat(target, dim=0)\n",
    "    prediction = torch.cat(prediction, dim=0)\n",
    "    clean_encoding = torch.cat(clean_encoding, dim=0)\n",
    "    noise_encoding = torch.cat(noise_encoding, dim=0)\n",
    "\n",
    "    return prediction, clean_encoding, noise_encoding, target\n"
   ]
  },
  {
   "cell_type": "code",
   "execution_count": 4,
   "metadata": {},
   "outputs": [
    {
     "name": "stderr",
     "output_type": "stream",
     "text": [
      "/Users/francescosacco/Documents/Github/Language_CA/src/attention.py:120: UserWarning: scatter_reduce() is in beta and the API may change at any time. (Triggered internally at /Users/runner/work/_temp/anaconda/conda-bld/pytorch_1670525473998/work/aten/src/ATen/native/TensorAdvancedIndexing.cpp:1615.)\n",
      "  translation.scatter_reduce(0, receivers.repeat(heads, 1).t(), att, reduce='amax',include_self=False)\n"
     ]
    }
   ],
   "source": [
    "#@title {vertical-output: true}\n",
    "#@markdown # Training\n",
    "#@markdown the loss function is cross entropy ❌🎲\n",
    "\n",
    "batch_size=10\n",
    "\n",
    "n_epochs = int(2000)\n",
    "model.train()\n",
    "context_size=100\n",
    "model.train()\n",
    "n_steps=20\n",
    "\n",
    "edge_index = graph_maker(context_size)\n",
    "edge_slide = torch.repeat_interleave(torch.arange(batch_size)*context_size, edge_index.shape[-1]).repeat(2,1)\n",
    "edge_index=edge_index.repeat(1, batch_size) + edge_slide\n",
    "\n",
    "\n",
    "for i in range(n_epochs):\n",
    "\n",
    "    prediction, clean_encoding, noise_encoding, target = sample_minibatched_shakespeare(train_ids, context_size, batch_size)\n",
    "\n",
    "    step_loss=torch.empty(n_steps+1, device=device)\n",
    "    #do n steps \n",
    "    step_loss[0]=loss_function(prediction, target, clean_encoding, noise_encoding)\n",
    "    for j in range(1,n_steps+1):\n",
    "        #make a forward pass\n",
    "        prediction = model(prediction, edge_index)\n",
    "        \n",
    "        #compute loss\n",
    "        step_loss[j]=loss_function(prediction, target, clean_encoding, noise_encoding)\n",
    "        #apply step weight if given\n",
    "        if step_weight is not None:\n",
    "            step_loss[j]*=step_weight(j)\n",
    "\n",
    "    #compute the total loss\n",
    "    loss = step_loss.mean()\n",
    "    best_possible_loss=F.cross_entropy(decoder(clean_encoding), target)\n",
    "\n",
    "\n",
    "    model.logs.append({'loss':loss.item(),\n",
    "                       'initial_loss':step_loss[0].item(),\n",
    "                       'best_possible_loss':best_possible_loss.item(),\n",
    "                       'step_loss':step_loss.detach().cpu().numpy()})\n",
    "    \n",
    "    loss.backward()\n",
    "    clip_grad_norm_(model.parameters(), 4*loss.item())\n",
    "\n",
    "\n",
    "    optimizer.step()\n",
    "    optimizer.zero_grad()  # reinitialize the gradient to zero\n",
    "    model.tokens_seen+=context_size\n",
    "\n",
    "    model.losses.append(loss.item())\n",
    "\n",
    "    logging_interval=30\n",
    "    if i%logging_interval==logging_interval-1:\n",
    "        clear_output(wait=True)\n",
    "        \n",
    "        m_av = moving_average(model.losses, logging_interval-1)\n",
    "\n",
    "        \n",
    "        plt.plot(model.losses, label='loss', color='orange', alpha=0.5, linewidth=0.5)\n",
    "        plt.plot(m_av, label='moving average', color='red')\n",
    "\n",
    "        plt.legend()\n",
    "        plt.ylabel('loss')\n",
    "        plt.xlabel('iteration')\n",
    "        plt.yscale('log')\n",
    "        plt.xscale('log')\n",
    "        plt.show()"
   ]
  },
  {
   "cell_type": "code",
   "execution_count": null,
   "metadata": {},
   "outputs": [
    {
     "name": "stdout",
     "output_type": "stream",
     "text": [
      "original text:\n",
      "colour for my visitation shall I\n",
      "Hold up before him?\n",
      "\n",
      "CAMILLO:\n",
      "Sent by the king your father\n",
      "To greet him and to give him comforts. Sir,\n",
      "The manner of your bearing towards him, with\n",
      "What you as from yo\n",
      "---------------------\n",
      "\n",
      "noised text:\n",
      "colourPfor sy visitOPioo OGall :\n",
      "Jols up Oefore hiqaJ\n",
      "CyyGTXO$\n",
      "SeI: byPthePking yoPr fOlher\n",
      "PJ gryet yim nOS  o giXe him corforts. Suc,\n",
      "The yOPIer of ;ouo beawOng to$aOSs him, :Pti\n",
      "zhO- yor Ss -roo yo\n",
      "loss befor denoising= 0.8163540959358215\n",
      "---------------------\n",
      "\n",
      "denoised text:\n",
      "$olour $or s  uisPtation rh$lr ,\n",
      "rrlr ir hefote hita\n",
      "\n",
      "tyymutar\n",
      "renr tuttherrung houu fanher\n",
      "$S grhet yi   rr  y siaerha  ctrhortso rir,\n",
      "Phe wafner tf hour oearing towaros hi , tPth\n",
      "rhat yor as rrot yo\n",
      "---------------------\n",
      "\n",
      "0.2186470478773117\n"
     ]
    }
   ],
   "source": [
    "context_size=200\n",
    "noise=torch.tensor(0.7)\n",
    "targ=sample_shakespeare(train_ids, context_size)\n",
    "print(f'original text:\\n{tokenizer.decode(targ)}\\n---------------------\\n')\n",
    "pred, clean, nois = encoder(targ, noise)\n",
    "\n",
    "print(f'noised text:\\n{tokenizer.decode(model.decoder(pred).argmax(dim=-1))}')\n",
    "\n",
    "base_loss = loss_function(pred, targ, clean, nois)\n",
    "print(f'loss befor denoising= {base_loss.item()}\\n---------------------\\n')\n",
    "\n",
    "l=[]\n",
    "edge_index=graph_maker(context_size)\n",
    "for _ in range(20):\n",
    "    pred = model(pred, edge_index)\n",
    "    l.append(loss_function(pred, targ, clean, nois).item())\n",
    "\n",
    "print(f'denoised text:\\n{tokenizer.decode(model.decoder(pred).argmax(dim=-1))}\\n---------------------\\n')\n",
    "base_loss = loss_function(pred, targ, clean, nois)\n",
    "print(base_loss.item())\n"
   ]
  },
  {
   "cell_type": "code",
   "execution_count": null,
   "metadata": {},
   "outputs": [
    {
     "data": {
      "text/plain": [
       "[<matplotlib.lines.Line2D at 0x7fc468e4b400>]"
      ]
     },
     "execution_count": 9,
     "metadata": {},
     "output_type": "execute_result"
    },
    {
     "data": {
      "image/png": "[encoded data removed]",
      "text/plain": [
       "<Figure size 640x480 with 1 Axes>"
      ]
     },
     "metadata": {},
     "output_type": "display_data"
    }
   ],
   "source": [
    "plt.plot(l)"
   ]
  },
  {
   "cell_type": "code",
   "execution_count": null,
   "metadata": {},
   "outputs": [
    {
     "name": "stdout",
     "output_type": "stream",
     "text": [
      "10000\n"
     ]
    }
   ],
   "source": [
    "print(10_000)"
   ]
  },
  {
   "cell_type": "code",
   "execution_count": null,
   "metadata": {},
   "outputs": [
    {
     "ename": "KeyError",
     "evalue": "'noise'",
     "output_type": "error",
     "traceback": [
      "\u001b[0;31m---------------------------------------------------------------------------\u001b[0m",
      "\u001b[0;31mKeyError\u001b[0m                                  Traceback (most recent call last)",
      "\u001b[0;32m/var/folders/y0/09wrr2yx6r79sjmsdnsc_0jm0000gn/T/ipykernel_25084/2069005475.py\u001b[0m in \u001b[0;36m<module>\u001b[0;34m\u001b[0m\n\u001b[1;32m      1\u001b[0m \u001b[0;32mimport\u001b[0m \u001b[0mmatplotlib\u001b[0m \u001b[0;32mas\u001b[0m \u001b[0mmpl\u001b[0m\u001b[0;34m\u001b[0m\u001b[0;34m\u001b[0m\u001b[0m\n\u001b[0;32m----> 2\u001b[0;31m \u001b[0mencoding_prediction\u001b[0m\u001b[0;34m=\u001b[0m\u001b[0;34m[\u001b[0m \u001b[0mlog\u001b[0m\u001b[0;34m[\u001b[0m\u001b[0;34m'loss'\u001b[0m\u001b[0;34m]\u001b[0m\u001b[0;34m/\u001b[0m\u001b[0;34m(\u001b[0m\u001b[0mlog\u001b[0m\u001b[0;34m[\u001b[0m\u001b[0;34m'noise'\u001b[0m\u001b[0;34m]\u001b[0m\u001b[0;34m+\u001b[0m\u001b[0;36m1e-8\u001b[0m\u001b[0;34m)\u001b[0m \u001b[0;32mfor\u001b[0m \u001b[0mlog\u001b[0m \u001b[0;32min\u001b[0m \u001b[0mmodel\u001b[0m\u001b[0;34m.\u001b[0m\u001b[0mlogs\u001b[0m\u001b[0;34m[\u001b[0m\u001b[0;34m-\u001b[0m\u001b[0;36m100\u001b[0m\u001b[0;34m:\u001b[0m\u001b[0;34m]\u001b[0m\u001b[0;34m]\u001b[0m\u001b[0;34m\u001b[0m\u001b[0;34m\u001b[0m\u001b[0m\n\u001b[0m\u001b[1;32m      3\u001b[0m \u001b[0mcolormap\u001b[0m\u001b[0;34m=\u001b[0m\u001b[0mplt\u001b[0m\u001b[0;34m.\u001b[0m\u001b[0mcm\u001b[0m\u001b[0;34m.\u001b[0m\u001b[0mget_cmap\u001b[0m\u001b[0;34m(\u001b[0m\u001b[0;34m'viridis'\u001b[0m\u001b[0;34m)\u001b[0m\u001b[0;34m\u001b[0m\u001b[0;34m\u001b[0m\u001b[0m\n\u001b[1;32m      4\u001b[0m \u001b[0;34m\u001b[0m\u001b[0m\n\u001b[1;32m      5\u001b[0m \u001b[0mlogs\u001b[0m\u001b[0;34m=\u001b[0m\u001b[0mmodel\u001b[0m\u001b[0;34m.\u001b[0m\u001b[0mlogs\u001b[0m\u001b[0;34m\u001b[0m\u001b[0;34m\u001b[0m\u001b[0m\n",
      "\u001b[0;32m/var/folders/y0/09wrr2yx6r79sjmsdnsc_0jm0000gn/T/ipykernel_25084/2069005475.py\u001b[0m in \u001b[0;36m<listcomp>\u001b[0;34m(.0)\u001b[0m\n\u001b[1;32m      1\u001b[0m \u001b[0;32mimport\u001b[0m \u001b[0mmatplotlib\u001b[0m \u001b[0;32mas\u001b[0m \u001b[0mmpl\u001b[0m\u001b[0;34m\u001b[0m\u001b[0;34m\u001b[0m\u001b[0m\n\u001b[0;32m----> 2\u001b[0;31m \u001b[0mencoding_prediction\u001b[0m\u001b[0;34m=\u001b[0m\u001b[0;34m[\u001b[0m \u001b[0mlog\u001b[0m\u001b[0;34m[\u001b[0m\u001b[0;34m'loss'\u001b[0m\u001b[0;34m]\u001b[0m\u001b[0;34m/\u001b[0m\u001b[0;34m(\u001b[0m\u001b[0mlog\u001b[0m\u001b[0;34m[\u001b[0m\u001b[0;34m'noise'\u001b[0m\u001b[0;34m]\u001b[0m\u001b[0;34m+\u001b[0m\u001b[0;36m1e-8\u001b[0m\u001b[0;34m)\u001b[0m \u001b[0;32mfor\u001b[0m \u001b[0mlog\u001b[0m \u001b[0;32min\u001b[0m \u001b[0mmodel\u001b[0m\u001b[0;34m.\u001b[0m\u001b[0mlogs\u001b[0m\u001b[0;34m[\u001b[0m\u001b[0;34m-\u001b[0m\u001b[0;36m100\u001b[0m\u001b[0;34m:\u001b[0m\u001b[0;34m]\u001b[0m\u001b[0;34m]\u001b[0m\u001b[0;34m\u001b[0m\u001b[0;34m\u001b[0m\u001b[0m\n\u001b[0m\u001b[1;32m      3\u001b[0m \u001b[0mcolormap\u001b[0m\u001b[0;34m=\u001b[0m\u001b[0mplt\u001b[0m\u001b[0;34m.\u001b[0m\u001b[0mcm\u001b[0m\u001b[0;34m.\u001b[0m\u001b[0mget_cmap\u001b[0m\u001b[0;34m(\u001b[0m\u001b[0;34m'viridis'\u001b[0m\u001b[0;34m)\u001b[0m\u001b[0;34m\u001b[0m\u001b[0;34m\u001b[0m\u001b[0m\n\u001b[1;32m      4\u001b[0m \u001b[0;34m\u001b[0m\u001b[0m\n\u001b[1;32m      5\u001b[0m \u001b[0mlogs\u001b[0m\u001b[0;34m=\u001b[0m\u001b[0mmodel\u001b[0m\u001b[0;34m.\u001b[0m\u001b[0mlogs\u001b[0m\u001b[0;34m\u001b[0m\u001b[0;34m\u001b[0m\u001b[0m\n",
      "\u001b[0;31mKeyError\u001b[0m: 'noise'"
     ]
    }
   ],
   "source": [
    "import matplotlib as mpl\n",
    "encoding_prediction=[ log['loss']/(log['noise']+1e-8) for log in model.logs[-100:]]\n",
    "colormap=plt.cm.get_cmap('viridis')\n",
    "\n",
    "logs=model.logs\n",
    "losses=[log['loss'] for log in logs]\n",
    "noises=[log['noise'] for log in logs]\n",
    "colors=colormap(np.logspace(-2.4,0,len(logs)))\n",
    "plt.scatter(noises, losses, color=colors)\n",
    "\n",
    "\n",
    "norm = mpl.colors.LogNorm(vmin=1, vmax=len(losses))\n",
    "cmap=plt.cm.get_cmap('viridis_r')\n",
    "plt.colorbar(mpl.cm.ScalarMappable(norm=norm, cmap=cmap),label='iterations',ticks=[])\n",
    "plt.yscale('log')\n",
    "plt.ylabel('loss')\n",
    "plt.xlabel('noise')"
   ]
  },
  {
   "cell_type": "code",
   "execution_count": null,
   "metadata": {},
   "outputs": [
    {
     "data": {
      "text/plain": [
       "'ssssZi R$s-ssTWttoo s\\n$rPMtIsost-ss\\nWrWW$tro-ITXottrMx otoos-forxTsUswtUf Ur xUFU   t&tUoW&\\n tUftU-sarItoowoUtl&t oI&ss-UI&E WnsUPz$t\\ntn- IzIrt o;UUOo ottrt$ooosfss C IOWt& tUW X-w sMt StstttoIo TUWoI'"
      ]
     },
     "execution_count": 11,
     "metadata": {},
     "output_type": "execute_result"
    }
   ],
   "source": [
    "from src.diffusion_utils import denoise,reverse_DDIM,cosine_schedule\n",
    "\n",
    "encoding_prediction=torch.randn(200,model.d_Embedding)\n",
    "edge_index=graph_maker(encoding_prediction.shape[0])\n",
    "\n",
    "out=denoise(model, reverse_DDIM, encoding_prediction, 100,10, cosine_schedule,edge_index=edge_index)\n",
    "tokenizer.decode(model.decoder(out).argmax(dim=-1).detach().cpu().numpy())"
   ]
  },
  {
   "cell_type": "code",
   "execution_count": null,
   "metadata": {},
   "outputs": [
    {
     "data": {
      "text/plain": [
       "torch.Size([180, 50257])"
      ]
     },
     "execution_count": 72,
     "metadata": {},
     "output_type": "execute_result"
    }
   ],
   "source": [
    "tok=tokenizer(text)\n",
    "out=model(tok, graph_maker(len(tok)))\n",
    "\n",
    "loss_function(out[:-1], tok[1:])\n",
    "\n",
    "out=model.calculate_final_embedding(out, graph_maker(len(tok)))\n",
    "out.shape"
   ]
  },
  {
   "cell_type": "code",
   "execution_count": null,
   "metadata": {},
   "outputs": [],
   "source": [
    "import numpy as np\n",
    "\n",
    "def scaling(N,D):\n",
    "    return 406.4/N**.34 + 410.7/D**.28 + 1.69\n",
    "\n",
    "\n",
    "noised_encoding=np.logspace(0,3,100,base=10)\n",
    "gpt2_estimate=scaling(124e6,9e9)"
   ]
  },
  {
   "cell_type": "code",
   "execution_count": null,
   "metadata": {},
   "outputs": [
    {
     "data": {
      "text/plain": [
       "1.8019184514787685"
      ]
     },
     "execution_count": 29,
     "metadata": {},
     "output_type": "execute_result"
    }
   ],
   "source": [
    "scaling(30e9,9e20)"
   ]
  },
  {
   "cell_type": "code",
   "execution_count": null,
   "metadata": {},
   "outputs": [
    {
     "data": {
      "image/png": "[encoded data removed]",
      "text/plain": [
       "<Figure size 640x480 with 1 Axes>"
      ]
     },
     "metadata": {},
     "output_type": "display_data"
    }
   ],
   "source": [
    "from matplotlib import pyplot as plt\n",
    "\n",
    "plt.plot(noised_encoding,y)\n",
    "plt.ylabel('loss')\n",
    "plt.xlabel('iteration')\n",
    "plt.yscale('log')\n",
    "plt.xscale('log')\n",
    "plt.show()"
   ]
  }
 ],
 "metadata": {
  "kernelspec": {
   "display_name": "base",
   "language": "python",
   "name": "python3"
  },
  "language_info": {
   "codemirror_mode": {
    "name": "ipython",
    "version": 3
   },
   "file_extension": ".py",
   "mimetype": "text/x-python",
   "name": "python",
   "nbconvert_exporter": "python",
   "pygments_lexer": "ipython3",
   "version": "3.9.13"
  },
  "orig_nbformat": 4
 },
 "nbformat": 4,
 "nbformat_minor": 2
}
