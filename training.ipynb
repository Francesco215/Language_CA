{
 "cells": [
  {
   "cell_type": "code",
   "execution_count": 1,
   "metadata": {},
   "outputs": [],
   "source": [
    "import torch\n",
    "from torch import nn\n",
    "from IPython.display import clear_output\n",
    "\n",
    "from src.encoder import Encoder, GPT2Encoder\n",
    "from src.decoder import Decoder, GPT2Decoder\n",
    "from src.graph_initialization import random_unidirectional_graph_maker, linear_unidirectional_graph_maker\n",
    "from src.graphAN import GraphAttentionNetwork, BlockGenerator\n",
    "from src.data_loader import Tokenizer, validation\n",
    "from src.GPT2 import GPT2_Block, GPT2\n",
    "from matplotlib import pyplot as plt\n",
    "from src.utils import moving_average, grad_norm\n",
    "from torch.nn.utils import clip_grad_norm_\n",
    "import pickle"
   ]
  },
  {
   "cell_type": "code",
   "execution_count": 2,
   "metadata": {},
   "outputs": [],
   "source": [
    "device = 'cpu'\n",
    "#device = 'mps'  if torch.backends.mps.is_available() else 'cpu'\n",
    "device = 'cuda' if torch.cuda.is_available() else device\n",
    "\n",
    "dK = 64\n",
    "dV = 64\n",
    "heads = 12\n",
    "d_Embedding = dK*heads\n",
    "\n",
    "tokenizer = Tokenizer('gpt2', device=device)\n",
    "encoder = Encoder(d_Embedding, tokenizer, dropout=0, device=device)\n",
    "decoder = Decoder(encoder)\n",
    "block_generator = BlockGenerator(GPT2_Block, d_Embedding, dK, dV, heads, dropout=0.1, split_size=2**10, device=device, rotary_encoding=True)\n",
    "model = GraphAttentionNetwork(tokenizer, encoder, block_generator, decoder)\n",
    "model.losses = []\n",
    "model.validation_losses = []\n",
    "graph_maker = random_unidirectional_graph_maker(50, 50, device=device)\n",
    "\n",
    "model.load_state_dict(torch.load(f'experiment 0.1/model(1).py', map_location='cpu'))\n",
    "with open(f\"experiment 0.1/losses(1).pk\", \"rb\") as fp:   # Unpickling\n",
    "    model.losses = pickle.load(fp)"
   ]
  },
  {
   "cell_type": "code",
   "execution_count": 3,
   "metadata": {},
   "outputs": [
    {
     "name": "stderr",
     "output_type": "stream",
     "text": [
      "Found cached dataset wikipedia (/Users/francescosacco/.cache/huggingface/datasets/wikipedia/20220301.simple/2.0.0/aa542ed919df55cc5d3347f42dd4521d05ca68751f50dbc32bae2a7f1e167559)\n",
      "Found cached dataset wikipedia (/Users/francescosacco/.cache/huggingface/datasets/wikipedia/20220301.simple/2.0.0/aa542ed919df55cc5d3347f42dd4521d05ca68751f50dbc32bae2a7f1e167559)\n"
     ]
    }
   ],
   "source": [
    "from datasets import load_dataset\n",
    "from src.data_loader import Wiki\n",
    "\n",
    "train=load_dataset(\"wikipedia\", \"20220301.simple\",split=\"train[:80%]\")\n",
    "valid=load_dataset(\"wikipedia\", \"20220301.simple\",split=\"train[80%:]\")\n",
    "\n",
    "dataset = Wiki(train, tokenizer, graph_maker, device=device)"
   ]
  },
  {
   "cell_type": "code",
   "execution_count": 4,
   "metadata": {},
   "outputs": [],
   "source": [
    "from src.decoder import Loss\n",
    "\n",
    "loss_function = Loss(decoder)\n",
    "lr = 8e-4\n",
    "gamma = 0.99\n",
    "\n",
    "grad_norms = []\n",
    "\n",
    "optimizer = torch.optim.Adam(model.parameters(), lr=lr)\n",
    "scheduler = torch.optim.lr_scheduler.ExponentialLR(optimizer, gamma)"
   ]
  },
  {
   "cell_type": "code",
   "execution_count": 13,
   "metadata": {},
   "outputs": [
    {
     "data": {
      "text/plain": [
       "tensor([5.2943])"
      ]
     },
     "execution_count": 13,
     "metadata": {},
     "output_type": "execute_result"
    }
   ],
   "source": [
    "#graph_maker = linear_unidirectional_graph_maker(500)\n",
    "\n",
    "validation(train,model,loss_function,graph_maker,2250,3)"
   ]
  },
  {
   "cell_type": "code",
   "execution_count": 6,
   "metadata": {},
   "outputs": [
    {
     "name": "stderr",
     "output_type": "stream",
     "text": [
      "Token indices sequence length is longer than the specified maximum sequence length for this model (3814 > 1024). Running this sequence through the model will result in indexing errors\n"
     ]
    },
    {
     "ename": "NameError",
     "evalue": "name 'i' is not defined",
     "output_type": "error",
     "traceback": [
      "\u001b[0;31m---------------------------------------------------------------------------\u001b[0m",
      "\u001b[0;31mNameError\u001b[0m                                 Traceback (most recent call last)",
      "\u001b[0;32m/var/folders/y0/09wrr2yx6r79sjmsdnsc_0jm0000gn/T/ipykernel_76386/4073183613.py\u001b[0m in \u001b[0;36m<module>\u001b[0;34m\u001b[0m\n\u001b[1;32m     14\u001b[0m         \u001b[0mloss\u001b[0m \u001b[0;34m=\u001b[0m \u001b[0mloss_function\u001b[0m\u001b[0;34m(\u001b[0m\u001b[0mprediction\u001b[0m\u001b[0;34m,\u001b[0m \u001b[0mtarget\u001b[0m\u001b[0;34m)\u001b[0m\u001b[0;34m\u001b[0m\u001b[0;34m\u001b[0m\u001b[0m\n\u001b[1;32m     15\u001b[0m \u001b[0;34m\u001b[0m\u001b[0m\n\u001b[0;32m---> 16\u001b[0;31m         \u001b[0mprint\u001b[0m\u001b[0;34m(\u001b[0m\u001b[0;34mf'N:{i}/{len(train)}, tokens:{nodes.shape[0]}, loss:{loss.item():.2f}'\u001b[0m\u001b[0;34m)\u001b[0m\u001b[0;34m\u001b[0m\u001b[0;34m\u001b[0m\u001b[0m\n\u001b[0m\u001b[1;32m     17\u001b[0m         \u001b[0mmodel\u001b[0m\u001b[0;34m.\u001b[0m\u001b[0mlosses\u001b[0m\u001b[0;34m.\u001b[0m\u001b[0mappend\u001b[0m\u001b[0;34m(\u001b[0m\u001b[0mloss\u001b[0m\u001b[0;34m.\u001b[0m\u001b[0mitem\u001b[0m\u001b[0;34m(\u001b[0m\u001b[0;34m)\u001b[0m\u001b[0;34m)\u001b[0m\u001b[0;34m\u001b[0m\u001b[0;34m\u001b[0m\u001b[0m\n\u001b[1;32m     18\u001b[0m         \u001b[0mloss\u001b[0m\u001b[0;34m.\u001b[0m\u001b[0mbackward\u001b[0m\u001b[0;34m(\u001b[0m\u001b[0;34m)\u001b[0m\u001b[0;34m\u001b[0m\u001b[0;34m\u001b[0m\u001b[0m\n",
      "\u001b[0;31mNameError\u001b[0m: name 'i' is not defined"
     ]
    }
   ],
   "source": [
    "#@title {vertical-output: true}\n",
    "#@markdown # Training\n",
    "#@markdown the loss function is cross entropy ❌🎲\n",
    "\n",
    "n_epochs = 2\n",
    "model.train()\n",
    "for _ in range(n_epochs):\n",
    "\n",
    "    steps = 0\n",
    "    dataset.index=0\n",
    "    while(dataset.index < len(train)):\n",
    "\n",
    "        nodes, edge_index, target = dataset.take_text_in_order()\n",
    "        prediction = model(nodes, edge_index)\n",
    "        loss = loss_function(prediction, target)\n",
    "\n",
    "        print(f'N:{dataset.index}/{len(train)}, tokens:{nodes.shape[0]}, loss:{loss.item():.2f}')\n",
    "        model.losses.append(loss.item())\n",
    "        loss.backward()\n",
    "\n",
    "        gn = grad_norm(model)\n",
    "        print(f'grad_norm:{gn:.2f}')\n",
    "        grad_norms.append(gn)\n",
    "        clip_grad_norm_(model.parameters(), 4*loss.item())\n",
    "\n",
    "        optimizer.step()\n",
    "        optimizer.zero_grad()  # reinitialize the gradient to zero\n",
    "\n",
    "        steps += 1\n",
    "        if steps % 10 == 0: # plot the loss every 10 steps\n",
    "            clear_output()\n",
    "\n",
    "            m_av = moving_average(model.losses, 10)\n",
    "            model.best_loss = min(m_av)\n",
    "\n",
    "            plt.plot(model.losses, label='loss', color='orange', alpha=0.5)\n",
    "            plt.plot(m_av, label='moving average', color='red')\n",
    "            plt.ylabel('loss')\n",
    "            plt.xlabel('iteration')\n",
    "            plt.yscale('log')\n",
    "            plt.xscale('log')\n",
    "            plt.show()\n",
    "\n",
    "            #if the model explodes, load the last backup\n",
    "            if m_av[-1]>=3*model.best_loss:\n",
    "                dataset.index+=100 #skip some datapoints\n",
    "                optimizer,scheduler=model.load(optimizer,scheduler,f'backup_{steps//100}.pth')\n",
    "\n",
    "        #make backup every 100 steps\n",
    "        if steps !=0 and steps % 100 == 0:\n",
    "            model.save(model, optimizer, scheduler, f'backup_{steps//100}.pth')\n",
    "            validation_loss=validation(valid,model,loss_function,graph_maker,n_samples=10)\n",
    "            model.validation_losses.append(validation_loss)\n",
    "\n",
    "        \n"
   ]
  },
  {
   "cell_type": "code",
   "execution_count": 72,
   "metadata": {},
   "outputs": [
    {
     "data": {
      "text/plain": [
       "torch.Size([180, 50257])"
      ]
     },
     "execution_count": 72,
     "metadata": {},
     "output_type": "execute_result"
    }
   ],
   "source": [
    "tok=tokenizer(text)\n",
    "out=model(tok, graph_maker(len(tok)))\n",
    "\n",
    "loss_function(out[:-1], tok[1:])\n",
    "\n",
    "out=model.calculate_final_embedding(out, graph_maker(len(tok)))\n",
    "out.shape"
   ]
  },
  {
   "cell_type": "code",
   "execution_count": 28,
   "metadata": {},
   "outputs": [],
   "source": [
    "import numpy as np\n",
    "\n",
    "def scaling(N,D):\n",
    "    return 406.4/N**.34 + 410.7/D**.28 + 1.69\n",
    "\n",
    "\n",
    "x=np.logspace(0,3,100,base=10)\n",
    "gpt2_estimate=scaling(124e6,9e9)"
   ]
  },
  {
   "cell_type": "code",
   "execution_count": 29,
   "metadata": {},
   "outputs": [
    {
     "data": {
      "text/plain": [
       "1.8019184514787685"
      ]
     },
     "execution_count": 29,
     "metadata": {},
     "output_type": "execute_result"
    }
   ],
   "source": [
    "scaling(30e9,9e20)"
   ]
  },
  {
   "cell_type": "code",
   "execution_count": 32,
   "metadata": {},
   "outputs": [],
   "source": [
    "y=scaling(124e6,x)"
   ]
  },
  {
   "cell_type": "code",
   "execution_count": 34,
   "metadata": {},
   "outputs": [
    {
     "data": {
      "image/png": "[encoded data removed]",
      "text/plain": [
       "<Figure size 640x480 with 1 Axes>"
      ]
     },
     "metadata": {},
     "output_type": "display_data"
    }
   ],
   "source": [
    "from matplotlib import pyplot as plt\n",
    "\n",
    "plt.plot(x,y)\n",
    "plt.ylabel('loss')\n",
    "plt.xlabel('iteration')\n",
    "plt.yscale('log')\n",
    "plt.xscale('log')\n",
    "plt.show()"
   ]
  },
  {
   "cell_type": "code",
   "execution_count": null,
   "metadata": {},
   "outputs": [],
   "source": []
  }
 ],
 "metadata": {
  "kernelspec": {
   "display_name": "base",
   "language": "python",
   "name": "python3"
  },
  "language_info": {
   "codemirror_mode": {
    "name": "ipython",
    "version": 3
   },
   "file_extension": ".py",
   "mimetype": "text/x-python",
   "name": "python",
   "nbconvert_exporter": "python",
   "pygments_lexer": "ipython3",
   "version": "3.9.13"
  },
  "orig_nbformat": 4
 },
 "nbformat": 4,
 "nbformat_minor": 2
}
