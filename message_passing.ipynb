{
 "cells": [
  {
   "cell_type": "code",
   "execution_count": 16,
   "metadata": {},
   "outputs": [],
   "source": [
    "import einops\n",
    "import torch\n",
    "from torch import nn\n",
    "\n",
    "\n",
    "embedding_dim=17\n",
    "embedding_dim_V=21\n",
    "sequence_length=13\n",
    "\n",
    "Q= torch.rand([sequence_length,embedding_dim])\n",
    "K= torch.rand([sequence_length,embedding_dim])\n",
    "V= torch.rand([sequence_length,embedding_dim_V])\n",
    "\n",
    "edge_index=torch.randint(0,sequence_length,(2,sequence_length*4))\n",
    "\n",
    "senders,receivers=edge_index\n",
    "\n"
   ]
  },
  {
   "cell_type": "code",
   "execution_count": 17,
   "metadata": {},
   "outputs": [
    {
     "data": {
      "text/plain": [
       "tensor([11,  8,  9, 10,  4,  3,  7, 12])"
      ]
     },
     "execution_count": 17,
     "metadata": {},
     "output_type": "execute_result"
    }
   ],
   "source": [
    "senders[receivers==4]"
   ]
  },
  {
   "cell_type": "code",
   "execution_count": 63,
   "metadata": {},
   "outputs": [
    {
     "name": "stdout",
     "output_type": "stream",
     "text": [
      "tensor([1, 0, 1, 2, 0, 2])\n",
      "tensor([2, 0, 2, 0, 2, 1])\n",
      "tensor([[0.2201, 0.0155],\n",
      "        [0.5055, 0.6268],\n",
      "        [0.2510, 0.8635],\n",
      "        [0.4945, 0.3732],\n",
      "        [0.5289, 0.1210],\n",
      "        [1.0000, 1.0000]])\n"
     ]
    }
   ],
   "source": [
    "import torch\n",
    "\n",
    "def normalize_strength(strength,receivers,n_nodes,heads):\n",
    "    \"\"\"\n",
    "    lets say we have a directed graph with N nodes and M edges.\n",
    "    To represent each one i have 3 M-dimentional vectors which are cal `senders`, `receivers`\n",
    "    and `strength`:\n",
    "    The i-th element of the `senders` vector represents a node  that is directed towards the\n",
    "    i-th element of the `receivers` vector. The strength of this connection is represented by\n",
    "    the i-th element of the `strength` vector.\n",
    "\n",
    "    This function normalizes the strength of each connection by dividing it by the sum of the\n",
    "    strengths of all the connections that are directed towards the same node.\n",
    "\n",
    "    Args:\n",
    "        receivers (torch.Tensor): A vector of length M, where M is the number of edges in the\n",
    "        strength (torch.Tensor): strength of each connection, (M,h) where M is the number of edges\n",
    "            head is the number of heads\n",
    "        N (int): number of nodes\n",
    "        heads (int): number of heads\n",
    "\n",
    "    Returns:\n",
    "        torch.Tensor: strenght vector normalized by the sum of the strengths of all the\n",
    "            connections that are directed towards the same node.\n",
    "    \"\"\"\n",
    "    assert strength.dim()==2, \"strength must be a 2-dimentional tensor (M,h) where head is the number of heads\"\n",
    "    assert type(n_nodes)==type(heads)==int, \"n_nodes and heads must be integers\"\n",
    "\n",
    "    strengths_sum = torch.zeros([n_nodes,heads],device=strength.device)\n",
    "    strengths_sum.index_add_(0, receivers, strength)\n",
    "\n",
    "    return strength / strengths_sum[receivers]\n",
    "\n",
    "# Example usage\n",
    "sequence_length=3\n",
    "heads=2\n",
    "\n",
    "edge_index=torch.randint(0,sequence_length,(2,sequence_length*2))\n",
    "senders,receivers=edge_index\n",
    "strength = torch.rand([senders.shape[0],heads])\n",
    "\n",
    "\n",
    "normalized_strength = normalize_strength(strength, receivers, sequence_length, heads)\n",
    "print(senders)\n",
    "print(receivers)\n",
    "print(normalized_strength)"
   ]
  },
  {
   "cell_type": "code",
   "execution_count": 58,
   "metadata": {},
   "outputs": [],
   "source": [
    "import einops\n",
    "\n",
    "def attention_message(K,Q,V,receivers,senders):\n",
    "    #Q: (N, h, dQ)\n",
    "    #K: (N, h, dK)\n",
    "    #V: (N, h, dV)\n",
    "    #receivers: (M,)\n",
    "    #senders: (M,)\n",
    "    assert K.dim()==Q.dim()==V.dim()==3, \"K,Q,V must be 3-dimentional tensors\"\n",
    "    assert K.shape[0]==Q.shape[0]==V.shape[0], \"K,Q,V must have the same first dimension\"\n",
    "    assert K.shape[1]==Q.shape[1]==V.shape[1], \"K,Q,V must have the same second dimension\"\n",
    "    assert K.shape[2]==Q.shape[2], \"K,Q must have the same third dimension\"\n",
    "\n",
    "    assert receivers.dim()==senders.dim()==1, \"receivers and senders must be 1-dimentional tensors\"\n",
    "    assert receivers.shape[0]==senders.shape[0], \"receivers and senders must have the same length\"\n",
    "\n",
    "    N,h,d=K.shape    \n",
    "    att=(Q[receivers]*K[senders]).sum(dim=-1) #TODO: add multi-head attention\n",
    "    \n",
    "    att=att*3/att.max()\n",
    "\n",
    "    att = torch.exp(att)\n",
    "    att = normalize_strength(att, receivers, N, h)\n",
    "\n",
    "    att = einops.einsum(att,V[senders],' ... , ... c -> ... c')\n",
    "\n",
    "    out=torch.zeros_like(V,device=V.device)\n",
    "\n",
    "    return out.index_add_(0,receivers,att)"
   ]
  },
  {
   "cell_type": "code",
   "execution_count": 62,
   "metadata": {},
   "outputs": [],
   "source": [
    "embedding_dim=17\n",
    "embedding_dim_V=21\n",
    "sequence_length=13\n",
    "n_edges=133\n",
    "heads=3\n",
    "\n",
    "Q= torch.rand([sequence_length,heads,embedding_dim])\n",
    "K= torch.rand([sequence_length,heads,embedding_dim])\n",
    "V= torch.rand([sequence_length,heads,embedding_dim_V])\n",
    "\n",
    "edge_index=torch.randint(0,sequence_length,(2,n_edges))\n",
    "\n",
    "senders,receivers=edge_index\n",
    "\n",
    "att=attention_message(K,Q,V,receivers,senders)"
   ]
  },
  {
   "cell_type": "code",
   "execution_count": 19,
   "metadata": {},
   "outputs": [
    {
     "ename": "TypeError",
     "evalue": "stack(): argument 'tensors' (position 1) must be tuple of Tensors, not Tensor",
     "output_type": "error",
     "traceback": [
      "\u001b[0;31m---------------------------------------------------------------------------\u001b[0m",
      "\u001b[0;31mTypeError\u001b[0m                                 Traceback (most recent call last)",
      "\u001b[0;32m/var/folders/vg/h6knjndn79l9ytz887vfbrcm0000gn/T/ipykernel_56152/4153485692.py\u001b[0m in \u001b[0;36m<module>\u001b[0;34m\u001b[0m\n\u001b[0;32m----> 1\u001b[0;31m \u001b[0mphi\u001b[0m\u001b[0;34m(\u001b[0m\u001b[0mK\u001b[0m\u001b[0;34m,\u001b[0m\u001b[0mQ\u001b[0m\u001b[0;34m,\u001b[0m\u001b[0mV\u001b[0m\u001b[0;34m,\u001b[0m\u001b[0mreceivers\u001b[0m\u001b[0;34m,\u001b[0m\u001b[0msenders\u001b[0m\u001b[0;34m)\u001b[0m\u001b[0;34m\u001b[0m\u001b[0;34m\u001b[0m\u001b[0m\n\u001b[0m",
      "\u001b[0;32m/var/folders/vg/h6knjndn79l9ytz887vfbrcm0000gn/T/ipykernel_56152/3140312885.py\u001b[0m in \u001b[0;36mphi\u001b[0;34m(K, Q, V, recievers, senders)\u001b[0m\n\u001b[1;32m      3\u001b[0m     \u001b[0matt\u001b[0m\u001b[0;34m=\u001b[0m\u001b[0;34m(\u001b[0m\u001b[0mQ\u001b[0m\u001b[0;34m[\u001b[0m\u001b[0mrecievers\u001b[0m\u001b[0;34m]\u001b[0m\u001b[0;34m*\u001b[0m\u001b[0mK\u001b[0m\u001b[0;34m[\u001b[0m\u001b[0msenders\u001b[0m\u001b[0;34m]\u001b[0m\u001b[0;34m)\u001b[0m\u001b[0;34m.\u001b[0m\u001b[0msum\u001b[0m\u001b[0;34m(\u001b[0m\u001b[0mdim\u001b[0m\u001b[0;34m=\u001b[0m\u001b[0;34m-\u001b[0m\u001b[0;36m1\u001b[0m\u001b[0;34m)\u001b[0m \u001b[0;31m#TODO: add multi-head attention\u001b[0m\u001b[0;34m\u001b[0m\u001b[0;34m\u001b[0m\u001b[0m\n\u001b[1;32m      4\u001b[0m \u001b[0;34m\u001b[0m\u001b[0m\n\u001b[0;32m----> 5\u001b[0;31m     \u001b[0matt\u001b[0m \u001b[0;34m=\u001b[0m \u001b[0mtorch\u001b[0m\u001b[0;34m.\u001b[0m\u001b[0msparse\u001b[0m\u001b[0;34m.\u001b[0m\u001b[0mFloatTensor\u001b[0m\u001b[0;34m(\u001b[0m\u001b[0mtorch\u001b[0m\u001b[0;34m.\u001b[0m\u001b[0mstack\u001b[0m\u001b[0;34m(\u001b[0m\u001b[0medge_index\u001b[0m\u001b[0;34m)\u001b[0m\u001b[0;34m,\u001b[0m \u001b[0matt\u001b[0m\u001b[0;34m,\u001b[0m \u001b[0mtorch\u001b[0m\u001b[0;34m.\u001b[0m\u001b[0mSize\u001b[0m\u001b[0;34m(\u001b[0m\u001b[0;34m[\u001b[0m\u001b[0msequence_length\u001b[0m\u001b[0;34m,\u001b[0m\u001b[0msequence_length\u001b[0m\u001b[0;34m]\u001b[0m\u001b[0;34m)\u001b[0m\u001b[0;34m)\u001b[0m\u001b[0;34m\u001b[0m\u001b[0;34m\u001b[0m\u001b[0m\n\u001b[0m\u001b[1;32m      6\u001b[0m     \u001b[0matt\u001b[0m\u001b[0;34m=\u001b[0m \u001b[0mtorch\u001b[0m\u001b[0;34m.\u001b[0m\u001b[0msparse\u001b[0m\u001b[0;34m.\u001b[0m\u001b[0msoftmax\u001b[0m\u001b[0;34m(\u001b[0m\u001b[0matt\u001b[0m\u001b[0;34m,\u001b[0m \u001b[0mdim\u001b[0m\u001b[0;34m=\u001b[0m\u001b[0;34m-\u001b[0m\u001b[0;36m1\u001b[0m\u001b[0;34m)\u001b[0m\u001b[0;34m\u001b[0m\u001b[0;34m\u001b[0m\u001b[0m\n\u001b[1;32m      7\u001b[0m     \u001b[0;32mreturn\u001b[0m \u001b[0matt\u001b[0m\u001b[0;34m.\u001b[0m\u001b[0mto_dense\u001b[0m\u001b[0;34m(\u001b[0m\u001b[0;34m)\u001b[0m\u001b[0;34m\u001b[0m\u001b[0;34m\u001b[0m\u001b[0m\n",
      "\u001b[0;31mTypeError\u001b[0m: stack(): argument 'tensors' (position 1) must be tuple of Tensors, not Tensor"
     ]
    }
   ],
   "source": [
    "phi(K,Q,V,receivers,senders)"
   ]
  },
  {
   "cell_type": "code",
   "execution_count": 45,
   "metadata": {},
   "outputs": [
    {
     "name": "stdout",
     "output_type": "stream",
     "text": [
      "torch.Size([4, 2])\n"
     ]
    },
    {
     "data": {
      "text/plain": [
       "tensor([[0.7000, 0.7000],\n",
       "        [0.8000, 0.6000],\n",
       "        [0.2000, 0.2000]])"
      ]
     },
     "execution_count": 45,
     "metadata": {},
     "output_type": "execute_result"
    }
   ],
   "source": [
    "senders = torch.tensor([0, 1, 2, 2])\n",
    "receivers = torch.tensor([1, 2, 1, 0])\n",
    "strength = torch.tensor([[0.5, 0.2, 0.3, 0.7],[0.3, 0.2, 0.3, 0.7]]).t()\n",
    "\n",
    "nodes=torch.zeros([3,2])\n",
    "print(nodes[receivers].shape)\n",
    "#nodes[:,receivers]+=strength\n",
    "s\n",
    "nodes=nodes.index_add(0,receivers,strength)\n",
    "\n",
    "strength=strength/nodes[receivers]\n",
    "nodes"
   ]
  },
  {
   "cell_type": "code",
   "execution_count": 30,
   "metadata": {},
   "outputs": [
    {
     "data": {
      "text/plain": [
       "tensor([1, 2])"
      ]
     },
     "execution_count": 30,
     "metadata": {},
     "output_type": "execute_result"
    }
   ],
   "source": [
    "x=torch.tensor([1,2,3,4,5,6,7,8,9,10])\n",
    "x[:2]\n"
   ]
  },
  {
   "cell_type": "code",
   "execution_count": 11,
   "metadata": {},
   "outputs": [
    {
     "data": {
      "text/plain": [
       "tensor([0.7000, 0.3000, 0.2000])"
      ]
     },
     "execution_count": 11,
     "metadata": {},
     "output_type": "execute_result"
    }
   ],
   "source": [
    "senders = torch.tensor([0, 1, 2, 2])\n",
    "receivers = torch.tensor([1, 2, 1, 0])\n",
    "strength = torch.tensor([0.5, 0.2, 0.3, 0.7])\n",
    "\n",
    "nodes=torch.zeros(3)\n",
    "\n",
    "nodes[receivers]+=strength\n",
    "nodes"
   ]
  },
  {
   "cell_type": "code",
   "execution_count": 79,
   "metadata": {},
   "outputs": [
    {
     "ename": "RuntimeError",
     "evalue": "index_add_(): self (Double) and source (Float) must have the same scalar type",
     "output_type": "error",
     "traceback": [
      "\u001b[0;31m---------------------------------------------------------------------------\u001b[0m",
      "\u001b[0;31mRuntimeError\u001b[0m                              Traceback (most recent call last)",
      "\u001b[0;32m/var/folders/vg/h6knjndn79l9ytz887vfbrcm0000gn/T/ipykernel_58803/4278705932.py\u001b[0m in \u001b[0;36m<module>\u001b[0;34m\u001b[0m\n\u001b[1;32m     11\u001b[0m \u001b[0;34m\u001b[0m\u001b[0m\n\u001b[1;32m     12\u001b[0m \u001b[0mnodes\u001b[0m\u001b[0;34m=\u001b[0m\u001b[0mtorch\u001b[0m\u001b[0;34m.\u001b[0m\u001b[0mzeros\u001b[0m\u001b[0;34m(\u001b[0m\u001b[0;34m[\u001b[0m\u001b[0mn_nodes\u001b[0m\u001b[0;34m,\u001b[0m\u001b[0mheads\u001b[0m\u001b[0;34m]\u001b[0m\u001b[0;34m,\u001b[0m\u001b[0mdtype\u001b[0m\u001b[0;34m=\u001b[0m\u001b[0mtorch\u001b[0m\u001b[0;34m.\u001b[0m\u001b[0mfloat64\u001b[0m\u001b[0;34m)\u001b[0m\u001b[0;34m\u001b[0m\u001b[0;34m\u001b[0m\u001b[0m\n\u001b[0;32m---> 13\u001b[0;31m \u001b[0mnodes\u001b[0m\u001b[0;34m=\u001b[0m\u001b[0mnodes\u001b[0m\u001b[0;34m.\u001b[0m\u001b[0mindex_add\u001b[0m\u001b[0;34m(\u001b[0m\u001b[0;36m0\u001b[0m\u001b[0;34m,\u001b[0m\u001b[0mreceivers\u001b[0m\u001b[0;34m,\u001b[0m\u001b[0mstrength\u001b[0m\u001b[0;34m)\u001b[0m\u001b[0;34m\u001b[0m\u001b[0;34m\u001b[0m\u001b[0m\n\u001b[0m\u001b[1;32m     14\u001b[0m \u001b[0mtorch\u001b[0m\u001b[0;34m.\u001b[0m\u001b[0mallclose\u001b[0m\u001b[0;34m(\u001b[0m\u001b[0mnodes\u001b[0m\u001b[0;34m,\u001b[0m\u001b[0mtorch\u001b[0m\u001b[0;34m.\u001b[0m\u001b[0mones_like\u001b[0m\u001b[0;34m(\u001b[0m\u001b[0mnodes\u001b[0m\u001b[0;34m)\u001b[0m\u001b[0;34m)\u001b[0m\u001b[0;34m\u001b[0m\u001b[0;34m\u001b[0m\u001b[0m\n\u001b[1;32m     15\u001b[0m \u001b[0mnodes\u001b[0m\u001b[0;34m\u001b[0m\u001b[0;34m\u001b[0m\u001b[0m\n",
      "\u001b[0;31mRuntimeError\u001b[0m: index_add_(): self (Double) and source (Float) must have the same scalar type"
     ]
    }
   ],
   "source": [
    "import torch\n",
    "\n",
    "\n",
    "n_nodes=74\n",
    "n_edges=563\n",
    "heads=6\n",
    "receivers=torch.randint(0,n_nodes,(n_edges,))\n",
    "strength = torch.rand([n_edges,heads])\n",
    "\n",
    "strength=normalize_strength(strength,receivers,n_nodes,heads)\n",
    "\n",
    "nodes=torch.zeros([n_nodes,heads])\n",
    "nodes=nodes.index_add(0,receivers,strength)\n",
    "torch.allclose(nodes,torch.ones_like(nodes))\n"
   ]
  },
  {
   "cell_type": "code",
   "execution_count": null,
   "metadata": {},
   "outputs": [],
   "source": []
  }
 ],
 "metadata": {
  "kernelspec": {
   "display_name": "base",
   "language": "python",
   "name": "python3"
  },
  "language_info": {
   "codemirror_mode": {
    "name": "ipython",
    "version": 3
   },
   "file_extension": ".py",
   "mimetype": "text/x-python",
   "name": "python",
   "nbconvert_exporter": "python",
   "pygments_lexer": "ipython3",
   "version": "3.9.7"
  },
  "orig_nbformat": 4,
  "vscode": {
   "interpreter": {
    "hash": "40d3a090f54c6569ab1632332b64b2c03c39dcf918b08424e98f38b5ae0af88f"
   }
  }
 },
 "nbformat": 4,
 "nbformat_minor": 2
}
